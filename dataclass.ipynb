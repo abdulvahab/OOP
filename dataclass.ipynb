{
 "cells": [
  {
   "cell_type": "code",
   "execution_count": 27,
   "metadata": {},
   "outputs": [
    {
     "name": "stdout",
     "output_type": "stream",
     "text": [
      "False\n"
     ]
    }
   ],
   "source": [
    "from dataclasses import dataclass\n",
    "@dataclass(order=True)\n",
    "class Color:\n",
    "    red : int \n",
    "    green : int\n",
    "    blue : int\n",
    "c1 = Color(255,255,0)\n",
    "c2 = Color(255,256,0)\n",
    "print(c1 >= c2)"
   ]
  },
  {
   "cell_type": "code",
   "execution_count": 30,
   "metadata": {},
   "outputs": [
    {
     "name": "stdout",
     "output_type": "stream",
     "text": [
      "{\"events\": [1, 2, 3, 4]}\n",
      "<class 'int'>\n",
      "SubscribeRequest(events=[1, 2, 3, 4, 6])\n"
     ]
    }
   ],
   "source": [
    "from dataclasses_json.api import DataClassJsonMixin\n",
    "from typing import List\n",
    "@dataclass(frozen=True)\n",
    "class SubscribeRequest(DataClassJsonMixin):\n",
    "    events: List[str]\n",
    "consumer = SubscribeRequest([1,2,3,4])\n",
    "print(consumer.to_json())\n",
    "print(type(consumer.events[0]))\n",
    "consumer.events.append(6)\n",
    "print(consumer)\n",
    "# consumer.events = [\"info\", \"warning\", \"error\"]"
   ]
  },
  {
   "cell_type": "code",
   "execution_count": null,
   "metadata": {},
   "outputs": [],
   "source": []
  },
  {
   "cell_type": "code",
   "execution_count": null,
   "metadata": {},
   "outputs": [],
   "source": []
  }
 ],
 "metadata": {
  "kernelspec": {
   "display_name": "Python 3",
   "language": "python",
   "name": "python3"
  },
  "language_info": {
   "codemirror_mode": {
    "name": "ipython",
    "version": 3
   },
   "file_extension": ".py",
   "mimetype": "text/x-python",
   "name": "python",
   "nbconvert_exporter": "python",
   "pygments_lexer": "ipython3",
   "version": "3.8.5"
  }
 },
 "nbformat": 4,
 "nbformat_minor": 4
}
